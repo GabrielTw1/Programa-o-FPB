{
  "nbformat": 4,
  "nbformat_minor": 0,
  "metadata": {
    "colab": {
      "provenance": [],
      "authorship_tag": "ABX9TyNgKbMsOMbFGrqLlA45MEEM",
      "include_colab_link": true
    },
    "kernelspec": {
      "name": "python3",
      "display_name": "Python 3"
    },
    "language_info": {
      "name": "python"
    }
  },
  "cells": [
    {
      "cell_type": "markdown",
      "metadata": {
        "id": "view-in-github",
        "colab_type": "text"
      },
      "source": [
        "<a href=\"https://colab.research.google.com/github/GabrielTw1/Programa-o-FPB/blob/main/Aula_python.ipynb\" target=\"_parent\"><img src=\"https://colab.research.google.com/assets/colab-badge.svg\" alt=\"Open In Colab\"/></a>"
      ]
    },
    {
      "cell_type": "code",
      "execution_count": 30,
      "metadata": {
        "colab": {
          "base_uri": "https://localhost:8080/"
        },
        "id": "39u0InzBviKb",
        "outputId": "229d3e8c-9ffd-4b06-af21-f3558d75ba96"
      },
      "outputs": [
        {
          "output_type": "execute_result",
          "data": {
            "text/plain": [
              "[0, 1, 2, 3, 4, 5, 6, 7]"
            ]
          },
          "metadata": {},
          "execution_count": 30
        }
      ],
      "source": [
        "numeros = []\n",
        "for num in range(8):\n",
        "  numeros.append(num)\n",
        "\n",
        "numeros\n"
      ]
    },
    {
      "cell_type": "code",
      "source": [
        "import random \n",
        "\n",
        "nums2 = []\n",
        "for num in range(random.randrange(0, 50)):\n",
        "  nums2.append(num)\n",
        "\n",
        "nums2\n"
      ],
      "metadata": {
        "colab": {
          "base_uri": "https://localhost:8080/"
        },
        "id": "rTTSkT8JwSaC",
        "outputId": "5a260416-d6d8-43b7-a1ba-f545258fc836"
      },
      "execution_count": 38,
      "outputs": [
        {
          "output_type": "execute_result",
          "data": {
            "text/plain": [
              "[0, 1, 2, 3, 4, 5, 6, 7]"
            ]
          },
          "metadata": {},
          "execution_count": 38
        }
      ]
    },
    {
      "cell_type": "code",
      "source": [
        "a = int(input('digite um numero! '))\n",
        "if a % 2 == 0:\n",
        "  print('e par')\n",
        "else:\n",
        "    print('é impar')"
      ],
      "metadata": {
        "colab": {
          "base_uri": "https://localhost:8080/"
        },
        "id": "uhG6Evj2zxm-",
        "outputId": "55b31990-0732-4786-8f34-4d01c551cb37"
      },
      "execution_count": 46,
      "outputs": [
        {
          "output_type": "stream",
          "name": "stdout",
          "text": [
            "digite um numero! 78\n",
            "e par\n"
          ]
        }
      ]
    },
    {
      "cell_type": "code",
      "source": [
        "numPares = []\n",
        "for num in range(51):\n",
        "  if(num % 2 == 0):\n",
        "   numPares.append(num)\n",
        "numPares  "
      ],
      "metadata": {
        "colab": {
          "base_uri": "https://localhost:8080/"
        },
        "id": "28rtgzI82gkv",
        "outputId": "e3059f17-1cd6-4c57-b147-8d4c3ee44044"
      },
      "execution_count": 50,
      "outputs": [
        {
          "output_type": "execute_result",
          "data": {
            "text/plain": [
              "[0,\n",
              " 2,\n",
              " 4,\n",
              " 6,\n",
              " 8,\n",
              " 10,\n",
              " 12,\n",
              " 14,\n",
              " 16,\n",
              " 18,\n",
              " 20,\n",
              " 22,\n",
              " 24,\n",
              " 26,\n",
              " 28,\n",
              " 30,\n",
              " 32,\n",
              " 34,\n",
              " 36,\n",
              " 38,\n",
              " 40,\n",
              " 42,\n",
              " 44,\n",
              " 46,\n",
              " 48,\n",
              " 50]"
            ]
          },
          "metadata": {},
          "execution_count": 50
        }
      ]
    },
    {
      "cell_type": "code",
      "source": [
        "soma = 0 \n",
        "\n",
        "for n in range(101):\n",
        "  soma = soma+n \n",
        "\n",
        "soma"
      ],
      "metadata": {
        "colab": {
          "base_uri": "https://localhost:8080/"
        },
        "id": "AihvCiSm45_U",
        "outputId": "75fec9ef-9313-4331-bf09-00c44b2647a8"
      },
      "execution_count": 54,
      "outputs": [
        {
          "output_type": "execute_result",
          "data": {
            "text/plain": [
              "5050"
            ]
          },
          "metadata": {},
          "execution_count": 54
        }
      ]
    },
    {
      "cell_type": "code",
      "source": [
        "#contador \n",
        "cont = 0 \n",
        "\n",
        "while (cont < 15):\n",
        "  print(cont +1)\n",
        "  cont+=1"
      ],
      "metadata": {
        "colab": {
          "base_uri": "https://localhost:8080/"
        },
        "id": "CLKMBW0u8kK6",
        "outputId": "32b2bd11-e440-4c88-a0ae-4cd7b073d9b9"
      },
      "execution_count": 57,
      "outputs": [
        {
          "output_type": "stream",
          "name": "stdout",
          "text": [
            "1\n",
            "2\n",
            "3\n",
            "4\n",
            "5\n",
            "6\n",
            "7\n",
            "8\n",
            "9\n",
            "10\n",
            "11\n",
            "12\n",
            "13\n",
            "14\n",
            "15\n"
          ]
        }
      ]
    },
    {
      "cell_type": "code",
      "source": [
        "#pede o usario um numero maior que um ate o numero digitado \n",
        "\n",
        "cont = 0\n",
        "num = int(input('digite o seu numero '))\n",
        "\n",
        "while (cont <= num):\n",
        "  print(cont)\n",
        "  cont+=1\n"
      ],
      "metadata": {
        "colab": {
          "base_uri": "https://localhost:8080/"
        },
        "id": "1Gu7hOd2-rZN",
        "outputId": "4f77ac08-d70b-446f-cf6c-7ad5b33445f1"
      },
      "execution_count": 61,
      "outputs": [
        {
          "output_type": "stream",
          "name": "stdout",
          "text": [
            "digite o seu numero 4\n",
            "0\n",
            "1\n",
            "2\n",
            "3\n",
            "4\n"
          ]
        }
      ]
    },
    {
      "cell_type": "code",
      "source": [
        "#crie uma lista de compras, encerra caso digite 0\n",
        "comprasLista = []\n",
        "\n",
        "item = input('digite o item:')\n",
        "\n",
        "while (item != '0'):\n",
        "  comprasLista.append(item)\n",
        "  item = input('digite o item: ')\n",
        "\n",
        "\n"
      ],
      "metadata": {
        "id": "RLp4mUE0ElR0"
      },
      "execution_count": null,
      "outputs": []
    }
  ]
}