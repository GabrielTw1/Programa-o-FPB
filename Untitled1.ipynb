{
  "nbformat": 4,
  "nbformat_minor": 0,
  "metadata": {
    "colab": {
      "provenance": [],
      "authorship_tag": "ABX9TyMfpKxBrT5d4lNdPRCoIsA8",
      "include_colab_link": true
    },
    "kernelspec": {
      "name": "python3",
      "display_name": "Python 3"
    },
    "language_info": {
      "name": "python"
    }
  },
  "cells": [
    {
      "cell_type": "markdown",
      "metadata": {
        "id": "view-in-github",
        "colab_type": "text"
      },
      "source": [
        "<a href=\"https://colab.research.google.com/github/GabrielTw1/Programa-o-FPB/blob/main/Untitled1.ipynb\" target=\"_parent\"><img src=\"https://colab.research.google.com/assets/colab-badge.svg\" alt=\"Open In Colab\"/></a>"
      ]
    },
    {
      "cell_type": "code",
      "execution_count": 1,
      "metadata": {
        "colab": {
          "base_uri": "https://localhost:8080/"
        },
        "id": "_8FlxMzOnEwp",
        "outputId": "c776f8fc-00f5-47ca-e9dc-e7f70ee352f3"
      },
      "outputs": [
        {
          "output_type": "stream",
          "name": "stdout",
          "text": [
            "115\n",
            "-45\n",
            "2800\n",
            "35\n"
          ]
        }
      ],
      "source": [
        "a = 35 \n",
        "b = 80\n",
        "\n",
        "print(a+b)\n",
        "print(a-b)\n",
        "print(a*b)\n",
        "print(a%b)"
      ]
    },
    {
      "cell_type": "code",
      "source": [
        "#codigo pra dizer a idade da pessoa \n",
        "anoNascim = int(input('digite o ano de nascimento'))\n",
        "print('sua idade é: ' ,2023-anoNascim)"
      ],
      "metadata": {
        "colab": {
          "base_uri": "https://localhost:8080/"
        },
        "id": "aBzBXFhRnfxS",
        "outputId": "8a2607e5-5d08-4f75-8692-865e06fd82b5"
      },
      "execution_count": 6,
      "outputs": [
        {
          "output_type": "stream",
          "name": "stdout",
          "text": [
            "digite o ano de nascimento2004\n",
            "sua idade é:  19\n"
          ]
        }
      ]
    },
    {
      "cell_type": "code",
      "source": [
        "#calcule o seu imc\n",
        "altura = float(input('informe a sua altura '))\n",
        "peso = float(input('informe o seu peso ' ))\n",
        "imc = peso/altura**2\n",
        "print('o imc é:', imc )\n",
        "if(imc < 18.5):\n",
        "  print('abaixo do peso')\n",
        "elif(imc < 25):\n",
        "  print('peso normal')\n",
        "elif(imc < 30):\n",
        "    print('excesso de peso')\n",
        "elif(imc < 35):\n",
        "  print('obesidade classe 1')\n",
        "elif(imc < 40):\n",
        "  print('obesidade classe 2')\n",
        "else:\n",
        "  print('obesidade classe 3')"
      ],
      "metadata": {
        "colab": {
          "base_uri": "https://localhost:8080/"
        },
        "id": "DloIunS-p1_Y",
        "outputId": "a522b328-1d4a-4760-c9f8-7e50ab97b56d"
      },
      "execution_count": 22,
      "outputs": [
        {
          "output_type": "stream",
          "name": "stdout",
          "text": [
            "informe a sua altura 1.80\n",
            "informe o seu peso 62\n",
            "o imc é: 19.1358024691358\n",
            "peso normal\n"
          ]
        }
      ]
    },
    {
      "cell_type": "code",
      "source": [
        "#verificar se o numero e par \n",
        "num = int(input('digite um numero:'))\n",
        "if(num%2 == 0):\n",
        "   print(' o numero e par')\n",
        "else:\n",
        "     print('o numero e impar')"
      ],
      "metadata": {
        "colab": {
          "base_uri": "https://localhost:8080/"
        },
        "id": "Hz98qBgUqzX6",
        "outputId": "4cf1f4ad-b10e-4b64-be8a-b6626859b42a"
      },
      "execution_count": 16,
      "outputs": [
        {
          "output_type": "stream",
          "name": "stdout",
          "text": [
            "digite um numero:63\n",
            "o numero e impar\n"
          ]
        }
      ]
    },
    {
      "cell_type": "code",
      "source": [
        "#em um campeonato de mma ,Tem tres categorias por peso\n",
        "#galo ate 70kg\n",
        "#medio ate 80kg \n",
        "#meio pesado ate 90kg \n",
        "peso = float(input('digite o peso do atleta:'))\n",
        "if(peso <= 70):\n",
        "  print('galo')\n",
        "elif(peso <= 80):\n",
        "  print('medio')\n",
        "elif(peso <=90):\n",
        "  print('meio pesado')\n",
        "  "
      ],
      "metadata": {
        "colab": {
          "base_uri": "https://localhost:8080/"
        },
        "id": "a2Z1B6OkycBR",
        "outputId": "0e7a8fa0-94ed-4347-ea03-933b0f444363"
      },
      "execution_count": 17,
      "outputs": [
        {
          "output_type": "stream",
          "name": "stdout",
          "text": [
            "digite o peso do atleta:85\n",
            "meio pesado\n"
          ]
        }
      ]
    }
  ]
}