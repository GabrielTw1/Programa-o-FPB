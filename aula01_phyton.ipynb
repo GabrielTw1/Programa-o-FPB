{
  "nbformat": 4,
  "nbformat_minor": 0,
  "metadata": {
    "colab": {
      "provenance": [],
      "authorship_tag": "ABX9TyO2HLRrPZOBpZIbV58Ada5I",
      "include_colab_link": true
    },
    "kernelspec": {
      "name": "python3",
      "display_name": "Python 3"
    },
    "language_info": {
      "name": "python"
    }
  },
  "cells": [
    {
      "cell_type": "markdown",
      "metadata": {
        "id": "view-in-github",
        "colab_type": "text"
      },
      "source": [
        "<a href=\"https://colab.research.google.com/github/GabrielTw1/Programa-o-FPB/blob/main/aula01_phyton.ipynb\" target=\"_parent\"><img src=\"https://colab.research.google.com/assets/colab-badge.svg\" alt=\"Open In Colab\"/></a>"
      ]
    },
    {
      "cell_type": "code",
      "source": [
        "print(\"eu vou programar, geral\")\n"
      ],
      "metadata": {
        "colab": {
          "base_uri": "https://localhost:8080/"
        },
        "id": "LsnIsZk0uLn8",
        "outputId": "665e89d3-2d5c-43b8-8ac7-387269119632"
      },
      "execution_count": null,
      "outputs": [
        {
          "output_type": "stream",
          "name": "stdout",
          "text": [
            "eu vou programar, geral\n"
          ]
        }
      ]
    },
    {
      "cell_type": "code",
      "source": [
        "#variaveis\n",
        "nome = \"gabriel\"\n",
        "print(nome)\n"
      ],
      "metadata": {
        "colab": {
          "base_uri": "https://localhost:8080/"
        },
        "id": "b-KBe1irwOOU",
        "outputId": "b906a7c5-b9e5-46ad-bd30-53e2edb1c162"
      },
      "execution_count": null,
      "outputs": [
        {
          "output_type": "stream",
          "name": "stdout",
          "text": [
            "gabriel\n"
          ]
        }
      ]
    },
    {
      "cell_type": "code",
      "source": [
        "#operaçoes com variaveis \n",
        "a = 20\n",
        "b = 35 \n",
        "soma = a + b \n",
        "subtração = a - b \n",
        "divisão = a / b \n",
        "multiplic = a * b \n"
      ],
      "metadata": {
        "id": "MBolPOGXw8mc"
      },
      "execution_count": null,
      "outputs": []
    },
    {
      "cell_type": "markdown",
      "source": [
        "meu primeiro projeto de python"
      ],
      "metadata": {
        "id": "8ScViT8qvmvM"
      }
    },
    {
      "cell_type": "code",
      "source": [
        "print(soma) \n",
        "print(subtração)\n",
        "print(divisão)\n",
        "print(multiplic)\n"
      ],
      "metadata": {
        "colab": {
          "base_uri": "https://localhost:8080/"
        },
        "id": "_Wnx9Cdyx-55",
        "outputId": "1a87ffdf-039e-47b8-d34d-f3ad882b010d"
      },
      "execution_count": null,
      "outputs": [
        {
          "output_type": "stream",
          "name": "stdout",
          "text": [
            "55\n",
            "-15\n",
            "0.5714285714285714\n",
            "700\n"
          ]
        }
      ]
    },
    {
      "cell_type": "code",
      "source": [
        "  variavel = 2 \n",
        "  print(variavel * 2)\n",
        "  "
      ],
      "metadata": {
        "colab": {
          "base_uri": "https://localhost:8080/"
        },
        "id": "5sVoyUWjy1In",
        "outputId": "ceddfef1-b4cf-4165-9797-b06083b9425d"
      },
      "execution_count": null,
      "outputs": [
        {
          "output_type": "stream",
          "name": "stdout",
          "text": [
            "4\n"
          ]
        }
      ]
    },
    {
      "cell_type": "code",
      "source": [
        "media = 4 + 7 + 9 + 9\n",
        "print(media / 4)"
      ],
      "metadata": {
        "colab": {
          "base_uri": "https://localhost:8080/"
        },
        "id": "8E8wHAc4zVHo",
        "outputId": "80f56b45-a997-49dd-eeb7-0f524404f311"
      },
      "execution_count": null,
      "outputs": [
        {
          "output_type": "stream",
          "name": "stdout",
          "text": [
            "7.25\n"
          ]
        }
      ]
    },
    {
      "cell_type": "code",
      "source": [
        "anonasci = 1990\n",
        "print(2023 - 1990)"
      ],
      "metadata": {
        "colab": {
          "base_uri": "https://localhost:8080/"
        },
        "id": "KiDy8-ej0ro2",
        "outputId": "5e0453fb-55e2-452f-8e1f-42ca9723eafb"
      },
      "execution_count": null,
      "outputs": [
        {
          "output_type": "stream",
          "name": "stdout",
          "text": [
            "33\n"
          ]
        }
      ]
    },
    {
      "cell_type": "code",
      "source": [
        "#trabalhando com inputs \n",
        "nome = input('Digite seu nome')\n",
        "print('ola '+nome) "
      ],
      "metadata": {
        "colab": {
          "base_uri": "https://localhost:8080/"
        },
        "id": "A7g5ltpl2a_v",
        "outputId": "455f7919-aedb-4c22-c58a-71419dde7bd6"
      },
      "execution_count": null,
      "outputs": [
        {
          "output_type": "stream",
          "name": "stdout",
          "text": [
            "Digite seu nomegabriel \n",
            "ola gabriel \n"
          ]
        }
      ]
    },
    {
      "cell_type": "code",
      "source": [
        "num = int(input( 'Digita ai,'))\n",
        "print(num*3)"
      ],
      "metadata": {
        "colab": {
          "base_uri": "https://localhost:8080/"
        },
        "id": "nmhohRnf5QEC",
        "outputId": "2727bdaf-cead-4388-8b41-82359de66594"
      },
      "execution_count": null,
      "outputs": [
        {
          "output_type": "stream",
          "name": "stdout",
          "text": [
            "Digita ai,2695\n",
            "8085\n"
          ]
        }
      ]
    }
  ]
}