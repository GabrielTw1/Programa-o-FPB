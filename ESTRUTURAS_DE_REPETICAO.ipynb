{
  "nbformat": 4,
  "nbformat_minor": 0,
  "metadata": {
    "colab": {
      "provenance": [],
      "authorship_tag": "ABX9TyMrSON8qyWN8m/x2TvQEcpa",
      "include_colab_link": true
    },
    "kernelspec": {
      "name": "python3",
      "display_name": "Python 3"
    },
    "language_info": {
      "name": "python"
    }
  },
  "cells": [
    {
      "cell_type": "markdown",
      "metadata": {
        "id": "view-in-github",
        "colab_type": "text"
      },
      "source": [
        "<a href=\"https://colab.research.google.com/github/GabrielTw1/Programa-o-FPB/blob/main/ESTRUTURAS_DE_REPETICAO.ipynb\" target=\"_parent\"><img src=\"https://colab.research.google.com/assets/colab-badge.svg\" alt=\"Open In Colab\"/></a>"
      ]
    },
    {
      "cell_type": "code",
      "execution_count": 2,
      "metadata": {
        "colab": {
          "base_uri": "https://localhost:8080/"
        },
        "id": "Zc62e0JhoLuL",
        "outputId": "8d0ff801-3452-4a1d-bff0-7688f6c68acf"
      },
      "outputs": [
        {
          "output_type": "stream",
          "name": "stdout",
          "text": [
            "True\n",
            "True\n",
            "False\n"
          ]
        }
      ],
      "source": [
        "#tipos booleanos \n",
        "print(100 == (50+50))\n",
        "print(100 >= (50+50))\n",
        "print(100 > (50+50))"
      ]
    },
    {
      "cell_type": "code",
      "source": [
        "idade = int(imput('digite a idade: '))\n",
        "if(idade >= 16)"
      ],
      "metadata": {
        "id": "Fh4UPuDAp3n8"
      },
      "execution_count": null,
      "outputs": []
    },
    {
      "cell_type": "code",
      "source": [
        "sexo = input('insira o sexo, m (masculino) ou f (feminino): ')\n",
        "idade = int(input('insira a idade: '))\n",
        "if((sexo == 'f' and idade >=55) or (sexo == 'm' and idade >=60)):\n",
        "  print('pode se aposentar')\n",
        "else:\n",
        "      print('ainda não pode')"
      ],
      "metadata": {
        "colab": {
          "base_uri": "https://localhost:8080/"
        },
        "id": "MdlGdUdksFYw",
        "outputId": "bea69c85-48d2-4e7f-db5e-1e7a10f4f5ad"
      },
      "execution_count": 12,
      "outputs": [
        {
          "output_type": "stream",
          "name": "stdout",
          "text": [
            "insira o sexo, m (masculino) ou f (feminino): m\n",
            "insira a idade: 65\n",
            "pode se aposentar\n"
          ]
        }
      ]
    },
    {
      "cell_type": "code",
      "source": [
        "A = 10\n",
        "B = 12\n",
        "C "
      ],
      "metadata": {
        "id": "DQ2ofTm0v6UV"
      },
      "execution_count": null,
      "outputs": []
    }
  ]
}