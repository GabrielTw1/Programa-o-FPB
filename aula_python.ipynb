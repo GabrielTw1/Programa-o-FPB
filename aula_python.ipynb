{
  "nbformat": 4,
  "nbformat_minor": 0,
  "metadata": {
    "colab": {
      "provenance": [],
      "authorship_tag": "ABX9TyOTknuDU/nrkr6cjH3BKpYe",
      "include_colab_link": true
    },
    "kernelspec": {
      "name": "python3",
      "display_name": "Python 3"
    },
    "language_info": {
      "name": "python"
    }
  },
  "cells": [
    {
      "cell_type": "markdown",
      "metadata": {
        "id": "view-in-github",
        "colab_type": "text"
      },
      "source": [
        "<a href=\"https://colab.research.google.com/github/GabrielTw1/Programa-o-FPB/blob/main/aula_python.ipynb\" target=\"_parent\"><img src=\"https://colab.research.google.com/assets/colab-badge.svg\" alt=\"Open In Colab\"/></a>"
      ]
    },
    {
      "cell_type": "code",
      "execution_count": 1,
      "metadata": {
        "colab": {
          "base_uri": "https://localhost:8080/"
        },
        "id": "LdYtOchq0wfq",
        "outputId": "92677802-0f25-4ec6-f0bf-9b4075128cbd"
      },
      "outputs": [
        {
          "output_type": "execute_result",
          "data": {
            "text/plain": [
              "['ze', 'tião', 'joaquim', 'julia', 'ana', 'gabriel', 'maria']"
            ]
          },
          "metadata": {},
          "execution_count": 1
        }
      ],
      "source": [
        "nomes = ['ze', 'tião', 'joaquim']\n",
        "nomes.append('julia')\n",
        "\n",
        "\n",
        "#varios valores \n",
        "outrosNomes = ['ana', 'gabriel', 'maria']\n",
        "nomes.extend(outrosNomes)\n",
        "\n",
        "nomes"
      ]
    },
    {
      "cell_type": "code",
      "source": [
        "#crie uma lista de numeros \n",
        "numeros = [ 4, 9, 5, 0, 29 ]\n",
        "#remova o primeiro numero da lista \n",
        "numeros.remove(numeros[0])\n",
        "#remova o ultimo numero da lista \n",
        "numeros.pop()\n",
        "\n",
        "numeros "
      ],
      "metadata": {
        "colab": {
          "base_uri": "https://localhost:8080/"
        },
        "id": "dHLsJnlS9q-Z",
        "outputId": "dc197051-7cc2-4d8e-ca2b-c9e79610084c"
      },
      "execution_count": 3,
      "outputs": [
        {
          "output_type": "execute_result",
          "data": {
            "text/plain": [
              "[9, 5, 0]"
            ]
          },
          "metadata": {},
          "execution_count": 3
        }
      ]
    },
    {
      "cell_type": "code",
      "source": [
        "#crie uma lista de notas, e exiba-a da menor para o maior \n",
        "notas = [2,10, 5, 8, 0, 17, 9]\n",
        "nomes = ['ademar', 'gabriel', 'thulio', 'leo']\n",
        "notas.sort()\n",
        "nomes.sort(reverse=True)\n",
        "nomes \n",
        "#2- crie uma lista de nomes de frutas e ordene "
      ],
      "metadata": {
        "colab": {
          "base_uri": "https://localhost:8080/"
        },
        "id": "17PaYzQn_0O6",
        "outputId": "84fcb242-aa15-42ab-8db5-bec21861bfc6"
      },
      "execution_count": 6,
      "outputs": [
        {
          "output_type": "execute_result",
          "data": {
            "text/plain": [
              "['thulio', 'leo', 'gabriel', 'ademar']"
            ]
          },
          "metadata": {},
          "execution_count": 6
        }
      ]
    },
    {
      "cell_type": "code",
      "source": [
        "#exemplos função map - cria uma nova lista com  o dobro \n",
        "numeros = [90, 10, 80, 30]\n",
        "nova_lista = list(map(lambda x : x*2, numeros))\n",
        "nova_lista"
      ],
      "metadata": {
        "colab": {
          "base_uri": "https://localhost:8080/"
        },
        "id": "SIfDxc3BCDnX",
        "outputId": "41751a90-2676-455c-f29a-874d7ba247d9"
      },
      "execution_count": 11,
      "outputs": [
        {
          "output_type": "execute_result",
          "data": {
            "text/plain": [
              "[180, 20, 160, 60]"
            ]
          },
          "metadata": {},
          "execution_count": 11
        }
      ]
    },
    {
      "cell_type": "code",
      "source": [
        "# pegar cada um dos numeros e dividir por 3 \n",
        "numDivi = list(map(lambda x : x/3, numeros ))\n",
        "\n",
        "numDivi"
      ],
      "metadata": {
        "colab": {
          "base_uri": "https://localhost:8080/"
        },
        "id": "AEZ4syocDMh4",
        "outputId": "1ad35469-5380-4a26-9f09-b571c31cd289"
      },
      "execution_count": 12,
      "outputs": [
        {
          "output_type": "execute_result",
          "data": {
            "text/plain": [
              "[30.0, 3.3333333333333335, 26.666666666666668, 10.0]"
            ]
          },
          "metadata": {},
          "execution_count": 12
        }
      ]
    },
    {
      "cell_type": "code",
      "source": [
        "#pega cada numero e soma 2\n",
        "soma2 = list(map(lambda x : x+2, numeros))\n",
        "soma2"
      ],
      "metadata": {
        "colab": {
          "base_uri": "https://localhost:8080/"
        },
        "id": "_6XsfsB7EHCP",
        "outputId": "3d69dbfd-db8c-433f-fdab-58a2415e01cf"
      },
      "execution_count": 13,
      "outputs": [
        {
          "output_type": "execute_result",
          "data": {
            "text/plain": [
              "[92, 12, 82, 32]"
            ]
          },
          "metadata": {},
          "execution_count": 13
        }
      ]
    },
    {
      "cell_type": "code",
      "source": [
        "#exemplo funçao filter a partir de uma lista de nomes, e me diga os nomes que tem mais de caracteries \n",
        "\n",
        "nomes = ['joao', 'jose', 'sebastião', 'angelica']\n",
        "\n",
        "new_list = list(filter(lambda x : len(x)>5, nomes))\n",
        "new_list"
      ],
      "metadata": {
        "colab": {
          "base_uri": "https://localhost:8080/"
        },
        "id": "Vg8WIETwE8ZP",
        "outputId": "45475f08-895b-445a-afb3-67d98a6c88c2"
      },
      "execution_count": 14,
      "outputs": [
        {
          "output_type": "execute_result",
          "data": {
            "text/plain": [
              "['sebastião', 'angelica']"
            ]
          },
          "metadata": {},
          "execution_count": 14
        }
      ]
    },
    {
      "cell_type": "code",
      "source": [
        "#crie uma lista de notas, imprime as maiores que 6\n",
        "\n",
        "listanot = [10, 8, 1, 7, 9]\n",
        "\n",
        "listmsix = list(filter(lambda x : x >= 6, listanot ))\n",
        "listmsix"
      ],
      "metadata": {
        "colab": {
          "base_uri": "https://localhost:8080/"
        },
        "id": "rOoswamAF9n2",
        "outputId": "22010068-9c5d-4add-ebfe-0e3bbc5472bf"
      },
      "execution_count": 26,
      "outputs": [
        {
          "output_type": "execute_result",
          "data": {
            "text/plain": [
              "[10, 8, 7, 9]"
            ]
          },
          "metadata": {},
          "execution_count": 26
        }
      ]
    },
    {
      "cell_type": "code",
      "source": [
        "#dada uma lista de numeros, retorne uma lsite contendo o quadrado de cada numero \n",
        "\n",
        "listnum = [9, 6, 10]\n",
        "\n",
        "newlist = list(map(lambda x : x **2, listnum))\n",
        "print(newlist)"
      ],
      "metadata": {
        "colab": {
          "base_uri": "https://localhost:8080/"
        },
        "id": "k6GEz9cUIuL7",
        "outputId": "37da52cd-ecfd-48ee-e898-7e03796ec5cb"
      },
      "execution_count": 33,
      "outputs": [
        {
          "output_type": "stream",
          "name": "stdout",
          "text": [
            "[81, 36, 100]\n"
          ]
        }
      ]
    },
    {
      "cell_type": "code",
      "source": [
        "#dada uam lista de nomes, retorne uma lista contendo o tamanho de cada nome \n",
        "\n",
        "listname = ['gabriel', 'ruan', 'marcelo']\n",
        "\n",
        "newlist = list(map(lambda x : len(x), listname))\n",
        "newlist\n"
      ],
      "metadata": {
        "colab": {
          "base_uri": "https://localhost:8080/"
        },
        "id": "od8OnzEZKyAw",
        "outputId": "c8cb796a-ef99-481a-efa1-c39ec3f960b0"
      },
      "execution_count": 36,
      "outputs": [
        {
          "output_type": "execute_result",
          "data": {
            "text/plain": [
              "[7, 4, 7]"
            ]
          },
          "metadata": {},
          "execution_count": 36
        }
      ]
    },
    {
      "cell_type": "code",
      "source": [
        "#dada uma lista de numeros retorne uma lista contendo apenas os numeros pares\n",
        "\n",
        "Listnumeros = [7, 4, 3, 2, 84, 90]\n",
        "\n",
        "listpar = list(filter(lambda x : x %2 == 0, Listnumeros))\n",
        "listpar"
      ],
      "metadata": {
        "colab": {
          "base_uri": "https://localhost:8080/"
        },
        "id": "fzkRNA0GMgdz",
        "outputId": "71c18241-bd3d-493c-955c-0997db2a6766"
      },
      "execution_count": 41,
      "outputs": [
        {
          "output_type": "execute_result",
          "data": {
            "text/plain": [
              "[4, 2, 84, 90]"
            ]
          },
          "metadata": {},
          "execution_count": 41
        }
      ]
    },
    {
      "cell_type": "code",
      "source": [
        "a = 'gabriel'\n",
        "a[0]"
      ],
      "metadata": {
        "colab": {
          "base_uri": "https://localhost:8080/",
          "height": 35
        },
        "id": "9CAvjG-AQITf",
        "outputId": "cfb240e6-de2a-4576-ef1d-eca3506841ed"
      },
      "execution_count": 48,
      "outputs": [
        {
          "output_type": "execute_result",
          "data": {
            "text/plain": [
              "'g'"
            ],
            "application/vnd.google.colaboratory.intrinsic+json": {
              "type": "string"
            }
          },
          "metadata": {},
          "execution_count": 48
        }
      ]
    },
    {
      "cell_type": "code",
      "source": [
        "#dada a lista de nomes, retorne uma lista contendo apenas os nomes que começam com a letra 'A'\n",
        "\n",
        "nomescoma = ['Ana' ,'iris' ,'alisson' ,'hugo' ,'gabriel']\n",
        "\n",
        "listnew = list(filter(lambda x : x[0].upper()=='A' , nomescoma))\n",
        "listnew"
      ],
      "metadata": {
        "colab": {
          "base_uri": "https://localhost:8080/"
        },
        "id": "CiCokx7OOMTT",
        "outputId": "c0f0037c-fad9-4f86-9d25-2f6652e8f20c"
      },
      "execution_count": 53,
      "outputs": [
        {
          "output_type": "execute_result",
          "data": {
            "text/plain": [
              "['Ana', 'alisson']"
            ]
          },
          "metadata": {},
          "execution_count": 53
        }
      ]
    }
  ]
}