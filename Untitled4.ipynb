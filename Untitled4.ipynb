{
  "nbformat": 4,
  "nbformat_minor": 0,
  "metadata": {
    "colab": {
      "provenance": [],
      "authorship_tag": "ABX9TyOXf1+icM5MdP/sYlnZTVfR",
      "include_colab_link": true
    },
    "kernelspec": {
      "name": "python3",
      "display_name": "Python 3"
    },
    "language_info": {
      "name": "python"
    }
  },
  "cells": [
    {
      "cell_type": "markdown",
      "metadata": {
        "id": "view-in-github",
        "colab_type": "text"
      },
      "source": [
        "<a href=\"https://colab.research.google.com/github/GabrielTw1/Programa-o-FPB/blob/main/Untitled4.ipynb\" target=\"_parent\"><img src=\"https://colab.research.google.com/assets/colab-badge.svg\" alt=\"Open In Colab\"/></a>"
      ]
    },
    {
      "cell_type": "code",
      "execution_count": 15,
      "metadata": {
        "colab": {
          "base_uri": "https://localhost:8080/",
          "height": 252
        },
        "id": "DP61YlUVv-0y",
        "outputId": "be799657-61df-42ca-8055-0723ffd6493e"
      },
      "outputs": [
        {
          "name": "stdout",
          "output_type": "stream",
          "text": [
            "chute em numero entre 0 e 100:78\n"
          ]
        },
        {
          "output_type": "error",
          "ename": "KeyboardInterrupt",
          "evalue": "ignored",
          "traceback": [
            "\u001b[0;31m---------------------------------------------------------------------------\u001b[0m",
            "\u001b[0;31mKeyboardInterrupt\u001b[0m                         Traceback (most recent call last)",
            "\u001b[0;32m<ipython-input-15-255ac40bdc3c>\u001b[0m in \u001b[0;36m<cell line: 10>\u001b[0;34m()\u001b[0m\n\u001b[1;32m      9\u001b[0m \u001b[0;34m\u001b[0m\u001b[0m\n\u001b[1;32m     10\u001b[0m \u001b[0;32mwhile\u001b[0m \u001b[0;34m(\u001b[0m\u001b[0mnum\u001b[0m \u001b[0;34m!=\u001b[0m \u001b[0mpitaco\u001b[0m\u001b[0;34m)\u001b[0m\u001b[0;34m:\u001b[0m\u001b[0;34m\u001b[0m\u001b[0;34m\u001b[0m\u001b[0m\n\u001b[0;32m---> 11\u001b[0;31m   \u001b[0;32mif\u001b[0m \u001b[0;34m(\u001b[0m\u001b[0mpitaco\u001b[0m \u001b[0;34m>\u001b[0m \u001b[0mnum\u001b[0m\u001b[0;34m)\u001b[0m\u001b[0;34m:\u001b[0m\u001b[0;34m\u001b[0m\u001b[0;34m\u001b[0m\u001b[0m\n\u001b[0m\u001b[1;32m     12\u001b[0m     \u001b[0mmaximo\u001b[0m \u001b[0;34m=\u001b[0m \u001b[0mpitaco\u001b[0m\u001b[0;34m\u001b[0m\u001b[0;34m\u001b[0m\u001b[0m\n\u001b[1;32m     13\u001b[0m   \u001b[0;32melse\u001b[0m\u001b[0;34m:\u001b[0m\u001b[0;34m\u001b[0m\u001b[0;34m\u001b[0m\u001b[0m\n",
            "\u001b[0;31mKeyboardInterrupt\u001b[0m: "
          ]
        }
      ],
      "source": [
        "import random \n",
        "\n",
        "num = random.randrange(101)\n",
        "minimo = 0 \n",
        "maximo = 100\n",
        "pitaco = int(input(f'chute em numero entre {minimo} e {maximo}:'))\n",
        "cont+= 1\n",
        "\n",
        "\n",
        "while (num != pitaco):\n",
        "  if (pitaco > num):\n",
        "    maximo = pitaco\n",
        "  else:\n",
        "    minimo = pitaco \n",
        "    pitaco = int(input(f'chute um numero entre {minimo} e {maximo}: '))\n",
        "    cont+=1\n",
        "\n",
        "    print(f'acertou {cont} tentativas')"
      ]
    },
    {
      "cell_type": "code",
      "source": [
        "def primeiraFuncao():                           #aqui e a declaração da função \n",
        "  print('minha primeira função')\n",
        "\n",
        "  primeirafuncao()                             #aqui e a chamada da funcao "
      ],
      "metadata": {
        "id": "v9WUy2qw2ZCc"
      },
      "execution_count": 20,
      "outputs": []
    },
    {
      "cell_type": "code",
      "source": [
        "def pronomeTratam(pronome) :\n",
        "  print(pronome, \"gabriel\")"
      ],
      "metadata": {
        "id": "ZJXcTEHS46tb"
      },
      "execution_count": 23,
      "outputs": []
    },
    {
      "cell_type": "code",
      "source": [
        "pronomeTratam('doutor')\n",
        "pronomeTratam('ilmo')\n",
        "pronomeTratam('seu')"
      ],
      "metadata": {
        "colab": {
          "base_uri": "https://localhost:8080/"
        },
        "id": "xFTG1Ch75ILq",
        "outputId": "f1d8e7d0-3ccf-404f-eb19-2487a3570023"
      },
      "execution_count": 24,
      "outputs": [
        {
          "output_type": "stream",
          "name": "stdout",
          "text": [
            "doutor gabriel\n",
            "ilmo gabriel\n",
            "seu gabriel\n"
          ]
        }
      ]
    },
    {
      "cell_type": "code",
      "source": [
        "#uma funçaão deve ser chamada com o número certinho \n",
        "def boasVindas(nome, cargo):\n",
        "  print('ola, '+ cargo + ' '+ nome)\n",
        "  "
      ],
      "metadata": {
        "id": "T4kTjEUt6HeH"
      },
      "execution_count": 25,
      "outputs": []
    },
    {
      "cell_type": "code",
      "source": [
        "boasVindas('gabriel', 'progrmador' )\n",
        "boasVindas('ruan', 'cozinheiro')"
      ],
      "metadata": {
        "colab": {
          "base_uri": "https://localhost:8080/"
        },
        "id": "NnDqIanw6mEv",
        "outputId": "fb0f5b9e-3350-45c2-9894-b3429f2a4b84"
      },
      "execution_count": 26,
      "outputs": [
        {
          "output_type": "stream",
          "name": "stdout",
          "text": [
            "ola, progrmador gabriel\n",
            "ola, cozinheiro ruan\n"
          ]
        }
      ]
    },
    {
      "cell_type": "code",
      "source": [
        "def somaNotas(*notas):\n",
        "  soma = 0 \n",
        "  for nota in notas:\n",
        "    soma += nota \n",
        "  print(soma)"
      ],
      "metadata": {
        "id": "dxW13nM49ie5"
      },
      "execution_count": 37,
      "outputs": []
    },
    {
      "cell_type": "code",
      "source": [
        "somaNotas(8, 5, 3, 4, 2, 423, 423, 65, 65)"
      ],
      "metadata": {
        "colab": {
          "base_uri": "https://localhost:8080/"
        },
        "id": "q9-cXo2x91EQ",
        "outputId": "706e5c48-a41d-4b88-ef3c-8c060d1a771c"
      },
      "execution_count": 38,
      "outputs": [
        {
          "output_type": "stream",
          "name": "stdout",
          "text": [
            "998\n"
          ]
        }
      ]
    },
    {
      "cell_type": "code",
      "source": [
        "def nacionalidade(country = 'Cuba'):\n",
        "  print('Eu nasci em: '+ country)"
      ],
      "metadata": {
        "id": "rYAJS2LWAuA7"
      },
      "execution_count": 41,
      "outputs": []
    },
    {
      "cell_type": "code",
      "source": [
        "nacionalidade('Brasil')\n",
        "nacionalidade('franca')\n",
        "nacionalidade('vietna')\n",
        "nacionalidade ()"
      ],
      "metadata": {
        "colab": {
          "base_uri": "https://localhost:8080/"
        },
        "id": "ZTSx7sCMBDs4",
        "outputId": "5af947dc-abfd-4ba2-9f20-bd9db030bcff"
      },
      "execution_count": 43,
      "outputs": [
        {
          "output_type": "stream",
          "name": "stdout",
          "text": [
            "Eu nasci em: Brasil\n",
            "Eu nasci em: franca\n",
            "Eu nasci em: vietna\n",
            "Eu nasci em: Cuba\n"
          ]
        }
      ]
    },
    {
      "cell_type": "code",
      "source": [
        "def imc(peso, altura):\n",
        "  return peso/altura**2\n",
        "  "
      ],
      "metadata": {
        "id": "ClA0XBySCgKH"
      },
      "execution_count": 44,
      "outputs": []
    },
    {
      "cell_type": "code",
      "source": [
        "def situacaoPeso(imc) :\n",
        "  if(imc < 18.5):\n",
        "    print('abaixo do peso normal')\n",
        "  elif(imc < 24.9):\n",
        "    print('peso normal')\n",
        "  else:\n",
        "    print('obesidade' )    "
      ],
      "metadata": {
        "id": "iJIeCqHPDDF2"
      },
      "execution_count": 45,
      "outputs": []
    },
    {
      "cell_type": "code",
      "source": [
        "situacaoPeso(imc(83, 1.64))"
      ],
      "metadata": {
        "colab": {
          "base_uri": "https://localhost:8080/"
        },
        "id": "uFKrYYz9D8eH",
        "outputId": "d0df00f5-169d-441d-e2d5-cf539c13c3fa"
      },
      "execution_count": 47,
      "outputs": [
        {
          "output_type": "stream",
          "name": "stdout",
          "text": [
            "obesidade\n"
          ]
        }
      ]
    },
    {
      "cell_type": "code",
      "source": [
        "#soma \n",
        "def soma(a, b):\n",
        "  return a + b\n",
        "#subtração\n",
        "def subtração(a, b):\n",
        "  return a - b\n",
        "#multiplicação\n",
        "def vezes(a, b):\n",
        "  return a * b  \n",
        "#divisão\n",
        "def divisao(a, b):\n",
        "  return a / b  "
      ],
      "metadata": {
        "id": "qT8KEi4EF3xL"
      },
      "execution_count": 48,
      "outputs": []
    }
  ]
}